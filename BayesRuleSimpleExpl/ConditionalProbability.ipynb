{
 "cells": [
  {
   "cell_type": "markdown",
   "id": "9260a51d-7e13-4a94-893c-7920b359868e",
   "metadata": {},
   "source": [
    "### Bayesian spam filter\n",
    "\n",
    "- Let's now tackle the famous Bayes' Theorem and use it for a simple but important task: spam detection.\n",
    "\n",
    "- While browsing your inbox, you have figured out that quite a few of the emails you would rather not waste your time on reading contain exclamatory statements, such as \"BUY NOW!!!\".\n",
    "  \n",
    "- You start thinking that the presence of three exclamation marks next to each other might be a good spam predictor! Hence you've prepared a DataFrame called emails with two variables: spam, whether the email was spam, and contains_3_exlc, whether it contains the string \"!!!\"."
   ]
  },
  {
   "cell_type": "code",
   "execution_count": 14,
   "id": "e48ae0e0-2768-41e0-b702-9ff029739b77",
   "metadata": {},
   "outputs": [],
   "source": [
    "import pandas as pd"
   ]
  },
  {
   "cell_type": "code",
   "execution_count": 32,
   "id": "459aaf78-2e71-479f-aaf5-a958cf42bf31",
   "metadata": {},
   "outputs": [],
   "source": [
    "emails = pd.read_csv(\"emails.csv\")"
   ]
  },
  {
   "cell_type": "code",
   "execution_count": 33,
   "id": "49d33c8d-1ca2-4836-a5e5-df334f78bf1a",
   "metadata": {},
   "outputs": [
    {
     "data": {
      "text/html": [
       "<div>\n",
       "<style scoped>\n",
       "    .dataframe tbody tr th:only-of-type {\n",
       "        vertical-align: middle;\n",
       "    }\n",
       "\n",
       "    .dataframe tbody tr th {\n",
       "        vertical-align: top;\n",
       "    }\n",
       "\n",
       "    .dataframe thead th {\n",
       "        text-align: right;\n",
       "    }\n",
       "</style>\n",
       "<table border=\"1\" class=\"dataframe\">\n",
       "  <thead>\n",
       "    <tr style=\"text-align: right;\">\n",
       "      <th></th>\n",
       "      <th>spam</th>\n",
       "      <th>contains_3_excl</th>\n",
       "    </tr>\n",
       "  </thead>\n",
       "  <tbody>\n",
       "    <tr>\n",
       "      <th>0</th>\n",
       "      <td>False</td>\n",
       "      <td>False</td>\n",
       "    </tr>\n",
       "    <tr>\n",
       "      <th>1</th>\n",
       "      <td>False</td>\n",
       "      <td>False</td>\n",
       "    </tr>\n",
       "    <tr>\n",
       "      <th>2</th>\n",
       "      <td>True</td>\n",
       "      <td>False</td>\n",
       "    </tr>\n",
       "    <tr>\n",
       "      <th>3</th>\n",
       "      <td>False</td>\n",
       "      <td>False</td>\n",
       "    </tr>\n",
       "    <tr>\n",
       "      <th>4</th>\n",
       "      <td>False</td>\n",
       "      <td>False</td>\n",
       "    </tr>\n",
       "    <tr>\n",
       "      <th>5</th>\n",
       "      <td>False</td>\n",
       "      <td>False</td>\n",
       "    </tr>\n",
       "    <tr>\n",
       "      <th>6</th>\n",
       "      <td>False</td>\n",
       "      <td>False</td>\n",
       "    </tr>\n",
       "    <tr>\n",
       "      <th>7</th>\n",
       "      <td>False</td>\n",
       "      <td>False</td>\n",
       "    </tr>\n",
       "    <tr>\n",
       "      <th>8</th>\n",
       "      <td>False</td>\n",
       "      <td>False</td>\n",
       "    </tr>\n",
       "    <tr>\n",
       "      <th>9</th>\n",
       "      <td>False</td>\n",
       "      <td>False</td>\n",
       "    </tr>\n",
       "    <tr>\n",
       "      <th>10</th>\n",
       "      <td>False</td>\n",
       "      <td>False</td>\n",
       "    </tr>\n",
       "    <tr>\n",
       "      <th>11</th>\n",
       "      <td>False</td>\n",
       "      <td>False</td>\n",
       "    </tr>\n",
       "    <tr>\n",
       "      <th>12</th>\n",
       "      <td>False</td>\n",
       "      <td>False</td>\n",
       "    </tr>\n",
       "    <tr>\n",
       "      <th>13</th>\n",
       "      <td>True</td>\n",
       "      <td>False</td>\n",
       "    </tr>\n",
       "    <tr>\n",
       "      <th>14</th>\n",
       "      <td>False</td>\n",
       "      <td>True</td>\n",
       "    </tr>\n",
       "    <tr>\n",
       "      <th>15</th>\n",
       "      <td>True</td>\n",
       "      <td>True</td>\n",
       "    </tr>\n",
       "    <tr>\n",
       "      <th>16</th>\n",
       "      <td>False</td>\n",
       "      <td>False</td>\n",
       "    </tr>\n",
       "    <tr>\n",
       "      <th>17</th>\n",
       "      <td>True</td>\n",
       "      <td>True</td>\n",
       "    </tr>\n",
       "    <tr>\n",
       "      <th>18</th>\n",
       "      <td>False</td>\n",
       "      <td>False</td>\n",
       "    </tr>\n",
       "    <tr>\n",
       "      <th>19</th>\n",
       "      <td>False</td>\n",
       "      <td>False</td>\n",
       "    </tr>\n",
       "  </tbody>\n",
       "</table>\n",
       "</div>"
      ],
      "text/plain": [
       "     spam  contains_3_excl\n",
       "0   False            False\n",
       "1   False            False\n",
       "2    True            False\n",
       "3   False            False\n",
       "4   False            False\n",
       "5   False            False\n",
       "6   False            False\n",
       "7   False            False\n",
       "8   False            False\n",
       "9   False            False\n",
       "10  False            False\n",
       "11  False            False\n",
       "12  False            False\n",
       "13   True            False\n",
       "14  False             True\n",
       "15   True             True\n",
       "16  False            False\n",
       "17   True             True\n",
       "18  False            False\n",
       "19  False            False"
      ]
     },
     "execution_count": 33,
     "metadata": {},
     "output_type": "execute_result"
    }
   ],
   "source": [
    "emails"
   ]
  },
  {
   "cell_type": "code",
   "execution_count": 36,
   "id": "302f0bdf-5bfb-4a53-997c-1e9312ee8a4f",
   "metadata": {},
   "outputs": [
    {
     "name": "stdout",
     "output_type": "stream",
     "text": [
      "0.2\n"
     ]
    }
   ],
   "source": [
    "# Calculate and print the unconditional probability of spam\n",
    "p_spam = emails[\"spam\"].mean()\n",
    "print(p_spam)"
   ]
  },
  {
   "cell_type": "code",
   "execution_count": 37,
   "id": "550e3eb9-d6ea-4ede-a914-0bfca57dee29",
   "metadata": {},
   "outputs": [
    {
     "name": "stdout",
     "output_type": "stream",
     "text": [
      "0.15\n"
     ]
    }
   ],
   "source": [
    "# Calculate and print the unconditional probability of \"!!!\"\n",
    "p_3_excl = emails[\"contains_3_excl\"].mean()\n",
    "print(p_3_excl)"
   ]
  },
  {
   "cell_type": "code",
   "execution_count": 38,
   "id": "685ed335-f8c3-4daa-b574-1dde1f102493",
   "metadata": {},
   "outputs": [
    {
     "data": {
      "text/plain": [
       "2     False\n",
       "13    False\n",
       "15     True\n",
       "17     True\n",
       "Name: contains_3_excl, dtype: bool"
      ]
     },
     "execution_count": 38,
     "metadata": {},
     "output_type": "execute_result"
    }
   ],
   "source": [
    "emails.loc[emails[\"spam\"]][\"contains_3_excl\"]"
   ]
  },
  {
   "cell_type": "code",
   "execution_count": 39,
   "id": "d673b2c9-1ff5-49f6-bd34-778861f57f27",
   "metadata": {},
   "outputs": [
    {
     "name": "stdout",
     "output_type": "stream",
     "text": [
      "0.5\n"
     ]
    }
   ],
   "source": [
    "# Calculate and print the probability of \"!!!\" given spam\n",
    "p_3_excl_given_spam = emails.loc[emails[\"spam\"]][\"contains_3_excl\"].mean()\n",
    "print(p_3_excl_given_spam)"
   ]
  },
  {
   "cell_type": "code",
   "execution_count": 40,
   "id": "c7875d1c-02fd-4ba2-8264-06bbfb984d6c",
   "metadata": {},
   "outputs": [
    {
     "name": "stdout",
     "output_type": "stream",
     "text": [
      "0.6666666666666667\n"
     ]
    }
   ],
   "source": [
    "# Calculate and print the probability of spam given \"!!!\"\n",
    "p_spam_given_3_excl = p_3_excl_given_spam * p_spam / p_3_excl\n",
    "print(p_spam_given_3_excl)"
   ]
  },
  {
   "cell_type": "markdown",
   "id": "328a4696-9152-4483-9f33-476c11ec471d",
   "metadata": {},
   "source": [
    "<img src = \"BayesFormula.png\">"
   ]
  },
  {
   "cell_type": "code",
   "execution_count": null,
   "id": "398c1302-7ec7-4186-b0cd-412385e7f385",
   "metadata": {},
   "outputs": [],
   "source": []
  },
  {
   "cell_type": "code",
   "execution_count": null,
   "id": "21f7d338-e577-406d-9b81-eb601272c0d9",
   "metadata": {},
   "outputs": [],
   "source": []
  },
  {
   "cell_type": "code",
   "execution_count": null,
   "id": "85fdb64e-0d54-4985-87ac-7048831eec11",
   "metadata": {},
   "outputs": [],
   "source": []
  }
 ],
 "metadata": {
  "kernelspec": {
   "display_name": "Python 3 (ipykernel)",
   "language": "python",
   "name": "python3"
  },
  "language_info": {
   "codemirror_mode": {
    "name": "ipython",
    "version": 3
   },
   "file_extension": ".py",
   "mimetype": "text/x-python",
   "name": "python",
   "nbconvert_exporter": "python",
   "pygments_lexer": "ipython3",
   "version": "3.10.13"
  }
 },
 "nbformat": 4,
 "nbformat_minor": 5
}
